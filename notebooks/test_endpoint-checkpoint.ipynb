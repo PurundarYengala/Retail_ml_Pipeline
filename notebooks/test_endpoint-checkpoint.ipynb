{
 "cells": [
  {
   "cell_type": "code",
   "execution_count": null,
   "id": "1e678f38",
   "metadata": {},
   "outputs": [],
   "source": [
    "import boto3\n",
    "\n",
    "# SageMaker runtime client\n",
    "runtime = boto3.client('sagemaker-runtime', region_name='us-east-1')\n",
    "\n",
    "# ✅ Your actual deployed endpoint name (not the config)\n",
    "endpoint_name = 'retail-xgboost-endpoint'  # Update if yours is named differently\n",
    "\n",
    "# ✅ Test input - a row from your dataset, without the label\n",
    "payload = \"8.0\"\n",
    "\n",
    "# Make prediction\n",
    "response = runtime.invoke_endpoint(\n",
    "    EndpointName=endpoint_name,\n",
    "    ContentType='text/csv',\n",
    "    Body=payload\n",
    ")\n",
    "\n",
    "# Show the prediction result\n",
    "result = response['Body'].read().decode('utf-8')\n",
    "print(\"Prediction:\", result)\n"
   ]
  }
 ],
 "metadata": {
  "kernelspec": {
   "display_name": "Python 3 (ipykernel)",
   "language": "python",
   "name": "python3"
  },
  "language_info": {
   "codemirror_mode": {
    "name": "ipython",
    "version": 3
   },
   "file_extension": ".py",
   "mimetype": "text/x-python",
   "name": "python",
   "nbconvert_exporter": "python",
   "pygments_lexer": "ipython3",
   "version": "3.11.4"
  }
 },
 "nbformat": 4,
 "nbformat_minor": 5
}
