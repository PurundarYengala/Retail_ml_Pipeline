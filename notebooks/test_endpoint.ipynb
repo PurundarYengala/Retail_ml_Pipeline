import boto3

# SageMaker runtime client
runtime = boto3.client('sagemaker-runtime', region_name='us-east-1')

# ✅ Your actual deployed endpoint name (not the config)
endpoint_name = 'retail-xgboost-endpoint'  # Update if yours is named differently

# ✅ Test input - a row from your dataset, without the label
payload = "8.0"

# Make prediction
response = runtime.invoke_endpoint(
    EndpointName=endpoint_name,
    ContentType='text/csv',
    Body=payload
)

# Show the prediction result
result = response['Body'].read().decode('utf-8')
print("Prediction:", result)
